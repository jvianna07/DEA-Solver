{
 "cells": [
  {
   "cell_type": "code",
   "execution_count": 1,
   "id": "38a36a61",
   "metadata": {},
   "outputs": [
    {
     "data": {
      "text/html": [
       "<div>\n",
       "<style scoped>\n",
       "    .dataframe tbody tr th:only-of-type {\n",
       "        vertical-align: middle;\n",
       "    }\n",
       "\n",
       "    .dataframe tbody tr th {\n",
       "        vertical-align: top;\n",
       "    }\n",
       "\n",
       "    .dataframe thead th {\n",
       "        text-align: right;\n",
       "    }\n",
       "</style>\n",
       "<table border=\"1\" class=\"dataframe\">\n",
       "  <thead>\n",
       "    <tr style=\"text-align: right;\">\n",
       "      <th></th>\n",
       "      <th>attr</th>\n",
       "      <th>price ($)</th>\n",
       "      <th>storage (GB)</th>\n",
       "      <th>camera (MP)</th>\n",
       "      <th>screen (mm)</th>\n",
       "    </tr>\n",
       "  </thead>\n",
       "  <tbody>\n",
       "    <tr>\n",
       "      <th>0</th>\n",
       "      <td>mobile1</td>\n",
       "      <td>250</td>\n",
       "      <td>16</td>\n",
       "      <td>12</td>\n",
       "      <td>4.0</td>\n",
       "    </tr>\n",
       "    <tr>\n",
       "      <th>1</th>\n",
       "      <td>mobile2</td>\n",
       "      <td>225</td>\n",
       "      <td>16</td>\n",
       "      <td>8</td>\n",
       "      <td>5.0</td>\n",
       "    </tr>\n",
       "    <tr>\n",
       "      <th>2</th>\n",
       "      <td>mobile3</td>\n",
       "      <td>300</td>\n",
       "      <td>32</td>\n",
       "      <td>16</td>\n",
       "      <td>4.5</td>\n",
       "    </tr>\n",
       "    <tr>\n",
       "      <th>3</th>\n",
       "      <td>mobile4</td>\n",
       "      <td>275</td>\n",
       "      <td>32</td>\n",
       "      <td>8</td>\n",
       "      <td>4.0</td>\n",
       "    </tr>\n",
       "  </tbody>\n",
       "</table>\n",
       "</div>"
      ],
      "text/plain": [
       "      attr  price ($)  storage (GB)  camera (MP)  screen (mm)\n",
       "0  mobile1        250            16           12          4.0\n",
       "1  mobile2        225            16            8          5.0\n",
       "2  mobile3        300            32           16          4.5\n",
       "3  mobile4        275            32            8          4.0"
      ]
     },
     "execution_count": 1,
     "metadata": {},
     "output_type": "execute_result"
    }
   ],
   "source": [
    "import numpy as np\n",
    "import pandas as pd\n",
    "from scipy.optimize import linprog\n",
    "from DEA_Solver import DEA_CCR\n",
    "\n",
    "datas=pd.read_csv(\"datas.csv\", sep=\";\", index_col=False)\n",
    "xi, xo= datas.values[:,1:2].astype(np.float32), datas.values[:,2:].astype(np.float32)\n",
    "datas"
   ]
  },
  {
   "cell_type": "code",
   "execution_count": 2,
   "id": "b87bb3ec",
   "metadata": {},
   "outputs": [
    {
     "data": {
      "text/plain": [
       "array([[250. ,  16. ,  12. ,   4. ],\n",
       "       [225. ,  16. ,   8. ,   5. ],\n",
       "       [300. ,  32. ,  16. ,   4.5],\n",
       "       [275. ,  32. ,   8. ,   4. ]], dtype=float32)"
      ]
     },
     "execution_count": 2,
     "metadata": {},
     "output_type": "execute_result"
    }
   ],
   "source": [
    "datas_values=datas.values[:,1:].astype(np.float32)\n",
    "datas_values"
   ]
  },
  {
   "cell_type": "markdown",
   "id": "6ba13c65",
   "metadata": {},
   "source": [
    "<h3 style=\"color:yellow\">Normalization</h3>"
   ]
  },
  {
   "cell_type": "code",
   "execution_count": 3,
   "id": "a25fe3e4",
   "metadata": {},
   "outputs": [
    {
     "data": {
      "text/plain": [
       "array([[0.47351375, 0.31622776, 0.52223295, 0.4551041 ],\n",
       "       [0.42616236, 0.31622776, 0.34815532, 0.56888014],\n",
       "       [0.5682165 , 0.6324555 , 0.69631064, 0.5119921 ],\n",
       "       [0.52086514, 0.6324555 , 0.34815532, 0.4551041 ]], dtype=float32)"
      ]
     },
     "execution_count": 3,
     "metadata": {},
     "output_type": "execute_result"
    }
   ],
   "source": [
    "datas_norm=np.sqrt(np.sum(datas_values**2, axis=0, keepdims=True))\n",
    "datas_values/datas_norm"
   ]
  },
  {
   "cell_type": "code",
   "execution_count": 4,
   "id": "73c6ae9a",
   "metadata": {},
   "outputs": [],
   "source": [
    "res=DEA_CCR(xi, xo)"
   ]
  },
  {
   "cell_type": "code",
   "execution_count": 8,
   "id": "1c314a51",
   "metadata": {},
   "outputs": [
    {
     "data": {
      "text/plain": [
       "array([[250.    ,  16.    ,  12.    ,   4.    ,   0.9681],\n",
       "       [225.    ,  16.    ,   8.    ,   5.    ,   1.    ],\n",
       "       [300.    ,  32.    ,  16.    ,   4.5   ,   1.    ],\n",
       "       [275.    ,  32.    ,   8.    ,   4.    ,   1.    ]])"
      ]
     },
     "execution_count": 8,
     "metadata": {},
     "output_type": "execute_result"
    }
   ],
   "source": [
    "a=res.solve()\n",
    "a"
   ]
  },
  {
   "cell_type": "markdown",
   "id": "94e9e3e6",
   "metadata": {},
   "source": [
    "<h2 style=\"color:yellow\">Lingprog</h2>\n",
    "O lingprog resolve o problema de minimização da forma:\n",
    "\n",
    "$\\text{min}\\quad C^Tx$\\\n",
    "st.\\\n",
    "$ A_{ub} x \\leq b_{ub}$\\\n",
    "$ A_{eq} x = b_{eq}$\\\n",
    "$ l\\leq x \\leq u $\n",
    "\n",
    "Onde:\n",
    "- $C^T$ --- obj (objective function)\n",
    "- $A_{ub}$ --- lhs_ineq (left hand side inequality constraint)\n",
    "- $b_{ub}$ --- rhs_ineq (right hand side inequality constraint)\n",
    "- $A_{eq}$ --- lhs_eq (left hand side equality constraint)\n",
    "- $b_{eq}$ --- rhs_eq (right hand side equality constraint) \n",
    "\n",
    "Todas as restrições com sinal de maior ou igual ($\\geq$) devem ser convertidas para menor ou igual ($\\leq$) multiplicando por -1. \n",
    "\n",
    "Para problema de maximizacao basta multiplicar a função objetivo por -1.\n",
    "\n",
    "Outra coisa que deve ser levada em consideração são as variáveis de decisão de não negatividade. Para definir isso, crie tuplas para cada variável. Por exemplo, se uma variável $x_1$ tem que ser maior ou igual à zero, use `x_1=(0,None)`. Pode trocar o `None` por `np.inf` ou `float('inf')`. Se a variável $x_1$ é livre, pode escrever `x_1=(None,None)`. Em suma, para todas variáveis `x`, deverá indicar o lower e o upper `x=(l,u)`, mesmo que ambas sejam `None`.\n",
    "\n",
    "A sinatxe para lingprog é:\n",
    "\n",
    "```python\n",
    "linprog(c, A_ub=None, b_ub=None, A_eq=None, b_eq=None, bounds=(0, None))\n",
    "```\n",
    "\n",
    "Na variável `bounds` deverá mandar uma lista com todas variáveis definidas. Exemplo: `bounds=[x_0, x_1, x_2]`.\n",
    "\n",
    "\n",
    "Documentação:\n",
    "* [Documentação do lingprog no Scipy](https://docs.scipy.org/doc/scipy/reference/generated/scipy.optimize.linprog.html)\n",
    "* [Exemplos com explicação](https://realpython.com/linear-programming-python/)\n",
    "* [Outros Exemplos](https://www.cuemath.com/algebra/linear-programming/)\n"
   ]
  },
  {
   "cell_type": "code",
   "execution_count": 11,
   "id": "9b1d9ba3",
   "metadata": {},
   "outputs": [],
   "source": [
    "# minimize\n",
    "c0=np.array([-1, 4])\n",
    "st0=np.array([\n",
    "    [-3, 1, 6],#<=\n",
    "    [-1, -2, -4]#>=\n",
    "    ])\n",
    "bs0_x0=(None, None)\n",
    "bs0_x1=(-3, None)\n",
    "\n",
    "# Solucao \n",
    "A_ub0=st0[:,:-1]*[[1],[-1]] \n",
    "b_ub0=st0[:,-1]*[1,-1]\n",
    "#multiplicamos por -1 a segunda restricao para mudar a direcao da desigualdade\n",
    "# x1=10 e x2=-3 z=-22 sao as solucoes\n",
    "\n",
    "# maximize\n",
    "c1=np.array([40, 30])\n",
    "st1=np.array([\n",
    "    [1, 1, 12],#<=\n",
    "    [2, 1, 16] #<=\n",
    "    ])\n",
    "bs1_x0=(0, None)\n",
    "bs1_x1=(0, None)\n",
    "\n",
    "# Solucao\n",
    "c1=c1*(-1) #multiplicamos por -1 a funcao objetivo para converter para minimizacao\n",
    "A_ub1=st1[:,:-1]\n",
    "b_ub1=st1[:,-1]\n",
    "# x1=4 e x2=8 z=400 sao as solucoes\n",
    "\n",
    "\n",
    "# Minimize\n",
    "c2=np.array([5,4])\n",
    "st2=np.array([\n",
    "    [4,1,40],#>=\n",
    "    [2,3,90] #>=\n",
    "             ])\n",
    "bs2_x0=(0, None)\n",
    "bs2_x1=(0, None)\n",
    "\n",
    "# Solucao\n",
    "st2=st2*(-1) # Multiplicar st por -1 para inverter o sinal de desigualdade\n",
    "A_ub2=st2[:,:-1]\n",
    "b_ub2=st2[:,-1]\n",
    "# x1=3 e x2=28 z=127 sao as solucoes\n",
    "\n",
    "# minimize\n",
    "c3=np.array([1,2,3])\n",
    "st3=np.array([\n",
    "    [1,1,1,12],#<=\n",
    "    [2,1,3,18]#<=\n",
    "])\n",
    "bs3_x0=(0, None)\n",
    "bs3_x1=(0, None)\n",
    "bs3_x2=(0, None)\n",
    "\n",
    "# Solucao\n",
    "A_ub3=st3[:,:-1]\n",
    "b_ub3=st3[:,-1]\n",
    "\n",
    "# x1=0 e x2=9 x3=3 z=27 sao as solucoes. Mas acho estao resolver maximizacao, fizeram c3=c3*(-1)"
   ]
  },
  {
   "cell_type": "code",
   "execution_count": 12,
   "id": "6fd72551",
   "metadata": {},
   "outputs": [
    {
     "data": {
      "text/plain": [
       "        message: Optimization terminated successfully. (HiGHS Status 7: Optimal)\n",
       "        success: True\n",
       "         status: 0\n",
       "            fun: -22.0\n",
       "              x: [ 1.000e+01 -3.000e+00]\n",
       "            nit: 0\n",
       "          lower:  residual: [       inf  0.000e+00]\n",
       "                 marginals: [ 0.000e+00  6.000e+00]\n",
       "          upper:  residual: [       inf        inf]\n",
       "                 marginals: [ 0.000e+00  0.000e+00]\n",
       "          eqlin:  residual: []\n",
       "                 marginals: []\n",
       "        ineqlin:  residual: [ 3.900e+01  0.000e+00]\n",
       "                 marginals: [-0.000e+00 -1.000e+00]\n",
       " mip_node_count: 0\n",
       " mip_dual_bound: 0.0\n",
       "        mip_gap: 0.0"
      ]
     },
     "execution_count": 12,
     "metadata": {},
     "output_type": "execute_result"
    }
   ],
   "source": [
    "# Exemplo 0 \n",
    "linprog(c0, A_ub0, b_ub0, bounds=[bs0_x0, bs0_x1])"
   ]
  },
  {
   "cell_type": "code",
   "execution_count": 13,
   "id": "fa5c51d3",
   "metadata": {},
   "outputs": [
    {
     "data": {
      "text/plain": [
       "        message: Optimization terminated successfully. (HiGHS Status 7: Optimal)\n",
       "        success: True\n",
       "         status: 0\n",
       "            fun: -400.0\n",
       "              x: [ 4.000e+00  8.000e+00]\n",
       "            nit: 2\n",
       "          lower:  residual: [ 4.000e+00  8.000e+00]\n",
       "                 marginals: [ 0.000e+00  0.000e+00]\n",
       "          upper:  residual: [       inf        inf]\n",
       "                 marginals: [ 0.000e+00  0.000e+00]\n",
       "          eqlin:  residual: []\n",
       "                 marginals: []\n",
       "        ineqlin:  residual: [ 0.000e+00  0.000e+00]\n",
       "                 marginals: [-2.000e+01 -1.000e+01]\n",
       " mip_node_count: 0\n",
       " mip_dual_bound: 0.0\n",
       "        mip_gap: 0.0"
      ]
     },
     "execution_count": 13,
     "metadata": {},
     "output_type": "execute_result"
    }
   ],
   "source": [
    "# Exemplo 1 \n",
    "linprog(c1, A_ub1, b_ub1, bounds=[bs1_x0, bs1_x1])"
   ]
  },
  {
   "cell_type": "code",
   "execution_count": 14,
   "id": "c2c0b4f1",
   "metadata": {},
   "outputs": [
    {
     "data": {
      "text/plain": [
       "        message: Optimization terminated successfully. (HiGHS Status 7: Optimal)\n",
       "        success: True\n",
       "         status: 0\n",
       "            fun: 127.0\n",
       "              x: [ 3.000e+00  2.800e+01]\n",
       "            nit: 2\n",
       "          lower:  residual: [ 3.000e+00  2.800e+01]\n",
       "                 marginals: [ 0.000e+00  0.000e+00]\n",
       "          upper:  residual: [       inf        inf]\n",
       "                 marginals: [ 0.000e+00  0.000e+00]\n",
       "          eqlin:  residual: []\n",
       "                 marginals: []\n",
       "        ineqlin:  residual: [ 0.000e+00  0.000e+00]\n",
       "                 marginals: [-7.000e-01 -1.100e+00]\n",
       " mip_node_count: 0\n",
       " mip_dual_bound: 0.0\n",
       "        mip_gap: 0.0"
      ]
     },
     "execution_count": 14,
     "metadata": {},
     "output_type": "execute_result"
    }
   ],
   "source": [
    "# Exemplo 2 \n",
    "linprog(c2, A_ub2, b_ub2, bounds=[bs2_x0, bs2_x1])"
   ]
  },
  {
   "cell_type": "code",
   "execution_count": 15,
   "id": "eb82e33c",
   "metadata": {},
   "outputs": [
    {
     "data": {
      "text/plain": [
       "       message: Optimization terminated successfully. (HiGHS Status 7: Optimal)\n",
       "       success: True\n",
       "        status: 0\n",
       "           fun: 0.0\n",
       "             x: [ 0.000e+00  0.000e+00  0.000e+00]\n",
       "           nit: 0\n",
       "         lower:  residual: [ 0.000e+00  0.000e+00  0.000e+00]\n",
       "                marginals: [ 1.000e+00  2.000e+00  3.000e+00]\n",
       "         upper:  residual: [       inf        inf        inf]\n",
       "                marginals: [ 0.000e+00  0.000e+00  0.000e+00]\n",
       "         eqlin:  residual: []\n",
       "                marginals: []\n",
       "       ineqlin:  residual: [ 1.200e+01  1.800e+01]\n",
       "                marginals: [-0.000e+00 -0.000e+00]"
      ]
     },
     "execution_count": 15,
     "metadata": {},
     "output_type": "execute_result"
    }
   ],
   "source": [
    "# Exemplo 3 \n",
    "linprog(c3, A_ub3, b_ub3, bounds=[bs3_x0, bs3_x1, bs3_x2])"
   ]
  }
 ],
 "metadata": {
  "kernelspec": {
   "display_name": "dea",
   "language": "python",
   "name": "python3"
  },
  "language_info": {
   "codemirror_mode": {
    "name": "ipython",
    "version": 3
   },
   "file_extension": ".py",
   "mimetype": "text/x-python",
   "name": "python",
   "nbconvert_exporter": "python",
   "pygments_lexer": "ipython3",
   "version": "3.11.13"
  }
 },
 "nbformat": 4,
 "nbformat_minor": 5
}
